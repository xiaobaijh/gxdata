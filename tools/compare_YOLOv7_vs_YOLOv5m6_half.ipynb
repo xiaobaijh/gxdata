{
  "cells": [
    {
      "cell_type": "code",
      "execution_count": 1,
      "metadata": {
        "colab": {
          "base_uri": "https://localhost:8080/",
          "height": 488
        },
        "id": "sSDOngglBk_O",
        "outputId": "5560686e-eea3-4dc7-883f-7c7c1d2773f6"
      },
      "outputs": [
        {
          "name": "stdout",
          "output_type": "stream",
          "text": [
            "Requirement already satisfied: setuptools in /home/wjh/.local/lib/python3.8/site-packages (71.1.0)\n",
            "Requirement already satisfied: pip in /home/wjh/.local/lib/python3.8/site-packages (24.1.2)\n",
            "Collecting PyYAML\n",
            "  Using cached PyYAML-6.0.1-cp38-cp38-manylinux_2_17_x86_64.manylinux2014_x86_64.whl.metadata (2.1 kB)\n",
            "Using cached PyYAML-6.0.1-cp38-cp38-manylinux_2_17_x86_64.manylinux2014_x86_64.whl (736 kB)\n",
            "Installing collected packages: PyYAML\n",
            "Successfully installed PyYAML-6.0.1\n"
          ]
        }
      ],
      "source": [
        "!pip install --upgrade setuptools pip --user\n",
        "!pip install --ignore-installed PyYAML\n",
        "!pip install pycocotools>=2.0"
      ]
    },
    {
      "cell_type": "code",
      "execution_count": 2,
      "metadata": {
        "colab": {
          "base_uri": "https://localhost:8080/"
        },
        "id": "hQ5fNost-gZI",
        "outputId": "12d68d3a-0875-46ad-e79a-d085b6802da9"
      },
      "outputs": [
        {
          "name": "stdout",
          "output_type": "stream",
          "text": [
            "Python version: 3.8.19 (default, Mar 20 2024, 19:58:24) \n",
            "[GCC 11.2.0], sys.version_info(major=3, minor=8, micro=19, releaselevel='final', serial=0) \n",
            "Pytorch version: 2.4.0+cu121 \n"
          ]
        }
      ],
      "source": [
        "import sys\n",
        "import torch\n",
        "print(f\"Python version: {sys.version}, {sys.version_info} \")\n",
        "print(f\"Pytorch version: {torch.__version__} \")"
      ]
    },
    {
      "cell_type": "code",
      "execution_count": null,
      "metadata": {
        "colab": {
          "base_uri": "https://localhost:8080/"
        },
        "id": "feCaRUEI-_Os",
        "outputId": "8c36c3e2-bb63-4737-c0ec-3d7f06549db4"
      },
      "outputs": [],
      "source": [
        "!nvidia-smi"
      ]
    },
    {
      "cell_type": "code",
      "execution_count": null,
      "metadata": {
        "colab": {
          "base_uri": "https://localhost:8080/"
        },
        "id": "oxdg36BCqkyv",
        "outputId": "2206d6b8-e3c6-4c23-d047-2c0c3851b7c5"
      },
      "outputs": [],
      "source": [
        "!wget https://github.com/ultralytics/yolov5/releases/download/v1.0/coco2017labels.zip\n",
        "!ls"
      ]
    },
    {
      "cell_type": "code",
      "execution_count": null,
      "metadata": {
        "colab": {
          "base_uri": "https://localhost:8080/"
        },
        "id": "ojgUsbxZqpi8",
        "outputId": "63311888-7f0d-4aae-9215-437b9c11518f"
      },
      "outputs": [],
      "source": [
        "!unzip -o coco2017labels.zip"
      ]
    },
    {
      "cell_type": "code",
      "execution_count": null,
      "metadata": {
        "colab": {
          "base_uri": "https://localhost:8080/"
        },
        "id": "DxWC5ZN6snYY",
        "outputId": "03851c33-d4e1-46f9-d118-cde5d4ac5d48"
      },
      "outputs": [],
      "source": [
        "%cd /content/coco/images/\n",
        "!ls"
      ]
    },
    {
      "cell_type": "code",
      "execution_count": null,
      "metadata": {
        "colab": {
          "base_uri": "https://localhost:8080/"
        },
        "id": "iQ_d_-NcssRZ",
        "outputId": "cb328aa8-6a0d-4709-f125-5674fd3d1cbc"
      },
      "outputs": [],
      "source": [
        "!wget http://images.cocodataset.org/zips/val2017.zip\n",
        "!ls"
      ]
    },
    {
      "cell_type": "code",
      "execution_count": null,
      "metadata": {
        "colab": {
          "base_uri": "https://localhost:8080/"
        },
        "id": "0YAlWEJysv1l",
        "outputId": "0214d8f5-3f7e-4030-b55b-ee190a9a7b63"
      },
      "outputs": [],
      "source": [
        "!unzip val2017.zip"
      ]
    },
    {
      "cell_type": "code",
      "execution_count": null,
      "metadata": {
        "id": "wvFHqxyCuNTu"
      },
      "outputs": [],
      "source": [
        "!rm /content/coco/val2017.cache"
      ]
    },
    {
      "cell_type": "code",
      "execution_count": null,
      "metadata": {
        "colab": {
          "base_uri": "https://localhost:8080/"
        },
        "id": "cOQlLvExtPFL",
        "outputId": "2c94026d-b4a9-4b9a-b506-48c47f24f80d"
      },
      "outputs": [],
      "source": [
        "%cd /content/\n",
        "!ls"
      ]
    },
    {
      "cell_type": "code",
      "execution_count": null,
      "metadata": {
        "colab": {
          "base_uri": "https://localhost:8080/"
        },
        "id": "VbejKguHtK7x",
        "outputId": "cea237dc-3264-4c45-9225-2de6954fc1bc"
      },
      "outputs": [],
      "source": [
        "!# Download YOLOv7 code\n",
        "!git clone https://github.com/WongKinYiu/yolov7\n",
        "%cd yolov7\n",
        "!ls"
      ]
    },
    {
      "cell_type": "code",
      "execution_count": null,
      "metadata": {
        "colab": {
          "base_uri": "https://localhost:8080/"
        },
        "id": "0NmzpzAaCUzC",
        "outputId": "b926d556-58f2-4e3c-cdb0-747359f9f092"
      },
      "outputs": [],
      "source": [
        "!sed -i 's#./coco/val2017.txt#/content/coco/val2017.txt#g' /content/yolov7/data/coco.yaml\n",
        "!cat /content/yolov7/data/coco.yaml"
      ]
    },
    {
      "cell_type": "code",
      "execution_count": null,
      "metadata": {
        "colab": {
          "base_uri": "https://localhost:8080/"
        },
        "id": "SYXkoHQbCXu0",
        "outputId": "4dee25f3-9820-48fd-85aa-0e5779578ddd"
      },
      "outputs": [],
      "source": [
        "!sed -i 's#./images/#/content/coco/images/#g' /content/coco/val2017.txt\n",
        "!cat /content/coco/val2017.txt"
      ]
    },
    {
      "cell_type": "code",
      "execution_count": null,
      "metadata": {
        "colab": {
          "base_uri": "https://localhost:8080/"
        },
        "id": "OL9i_dSPu7EV",
        "outputId": "39796710-e419-4c09-eef5-3200bc819293"
      },
      "outputs": [],
      "source": [
        "!# Download trained weights\n",
        "!wget https://github.com/WongKinYiu/yolov7/releases/download/v0.1/yolov7.pt"
      ]
    },
    {
      "cell_type": "code",
      "execution_count": null,
      "metadata": {
        "colab": {
          "base_uri": "https://localhost:8080/"
        },
        "id": "0rBj0ty6vA-_",
        "outputId": "16409eb3-f5a6-47b8-a5e9-30701b02843f"
      },
      "outputs": [],
      "source": [
        "!python detect.py --weights ./yolov7.pt --conf 0.25 --img-size 640 --source inference/images/horses.jpg"
      ]
    },
    {
      "cell_type": "code",
      "execution_count": null,
      "metadata": {
        "colab": {
          "base_uri": "https://localhost:8080/",
          "height": 529
        },
        "id": "eQzplCJjvDoF",
        "outputId": "0930f53a-0091-45e7-9ac6-8baf0d4acfe6"
      },
      "outputs": [],
      "source": [
        "from PIL import Image\n",
        "Image.open('/content/yolov7/runs/detect/exp/horses.jpg')"
      ]
    },
    {
      "cell_type": "code",
      "execution_count": null,
      "metadata": {
        "colab": {
          "base_uri": "https://localhost:8080/"
        },
        "id": "GYCOY5mcwkiM",
        "outputId": "a89a8534-ecf1-43d4-ddf7-4174dc88e3ac"
      },
      "outputs": [],
      "source": [
        "!mkdir /content/yolov7/coco/\n",
        "%cd /content/yolov7/coco/"
      ]
    },
    {
      "cell_type": "code",
      "execution_count": null,
      "metadata": {
        "colab": {
          "base_uri": "https://localhost:8080/"
        },
        "id": "AagdJBYbxSft",
        "outputId": "2666effb-dde1-4adc-d23e-1b6eef7efe2b"
      },
      "outputs": [],
      "source": [
        "!wget http://images.cocodataset.org/annotations/annotations_trainval2017.zip\n",
        "!ls"
      ]
    },
    {
      "cell_type": "code",
      "execution_count": null,
      "metadata": {
        "colab": {
          "base_uri": "https://localhost:8080/"
        },
        "id": "Idx8qqbTw0KY",
        "outputId": "2d2aacd6-f5f4-497b-b148-84e29c7d6840"
      },
      "outputs": [],
      "source": [
        "!unzip -o annotations_trainval2017.zip\n",
        "!ls"
      ]
    },
    {
      "cell_type": "code",
      "execution_count": null,
      "metadata": {
        "colab": {
          "base_uri": "https://localhost:8080/"
        },
        "id": "oEv03HR3xj1d",
        "outputId": "5ff8c7fb-c14c-4727-e65d-e0005e6dc52a"
      },
      "outputs": [],
      "source": [
        "%cd /content/yolov7/\n",
        "!ls"
      ]
    },
    {
      "cell_type": "code",
      "execution_count": null,
      "metadata": {
        "colab": {
          "base_uri": "https://localhost:8080/"
        },
        "id": "Rdjk1aSjvEN1",
        "outputId": "b59d09a2-1531-4239-ad5e-df3c9a04e81f"
      },
      "outputs": [],
      "source": [
        "!python test.py --data data/coco.yaml --img 640 --batch 32 --conf 0.001 --iou 0.65 --device 0 --weights yolov7.pt --name yolov7_640_val"
      ]
    },
    {
      "cell_type": "code",
      "execution_count": null,
      "metadata": {
        "colab": {
          "base_uri": "https://localhost:8080/"
        },
        "id": "JE3o2PqQy2n4",
        "outputId": "c7d76c51-259d-4d8d-f8c2-b97ac44aa99f"
      },
      "outputs": [],
      "source": [
        "!python test.py --data data/coco.yaml --img 640 --batch 1 --conf 0.001 --iou 0.65 --device 0 --weights yolov7.pt --name yolov7_640_val"
      ]
    },
    {
      "cell_type": "code",
      "execution_count": null,
      "metadata": {
        "colab": {
          "base_uri": "https://localhost:8080/"
        },
        "id": "1f2w5Ht41Z_5",
        "outputId": "3010d034-6689-42ef-b647-955c13ace52a"
      },
      "outputs": [],
      "source": [
        "%cd /content/\n",
        "!ls"
      ]
    },
    {
      "cell_type": "code",
      "execution_count": null,
      "metadata": {
        "colab": {
          "base_uri": "https://localhost:8080/"
        },
        "id": "JerxfvYu1aZC",
        "outputId": "62f2a98b-3a2b-40f3-b15d-c62a0d4a10ae"
      },
      "outputs": [],
      "source": [
        "!# Download YOLOv5 code\n",
        "!git clone https://github.com/ultralytics/yolov5\n",
        "%cd yolov5\n",
        "!git checkout 0b5ac224aef287ac3ac9ebf70ade60159450a0b1\n",
        "!ls"
      ]
    },
    {
      "cell_type": "code",
      "execution_count": null,
      "metadata": {
        "colab": {
          "base_uri": "https://localhost:8080/"
        },
        "id": "u51YN2861gmT",
        "outputId": "d77e4ef4-5b68-4afc-ef5f-1d841b7dbf37"
      },
      "outputs": [],
      "source": [
        "!# Download trained weights\n",
        "!wget https://github.com/ultralytics/yolov5/releases/download/v6.1/yolov5m6.pt"
      ]
    },
    {
      "cell_type": "code",
      "execution_count": null,
      "metadata": {
        "colab": {
          "base_uri": "https://localhost:8080/"
        },
        "id": "QEf8hSrk1vlW",
        "outputId": "e5e45f2c-f4e5-4e83-a7c5-101d352ce0fb"
      },
      "outputs": [],
      "source": [
        "!python detect.py --weights ./yolov5m6.pt --conf 0.25 --img-size 1280 --source data/images/bus.jpg"
      ]
    },
    {
      "cell_type": "code",
      "execution_count": null,
      "metadata": {
        "colab": {
          "base_uri": "https://localhost:8080/",
          "height": 1000
        },
        "id": "pKGRsSnx2If3",
        "outputId": "8d5f3b1f-fad3-405e-db26-261686d7c0f9"
      },
      "outputs": [],
      "source": [
        "from PIL import Image\n",
        "Image.open('/content/yolov5/runs/detect/exp/bus.jpg')"
      ]
    },
    {
      "cell_type": "code",
      "execution_count": null,
      "metadata": {
        "colab": {
          "base_uri": "https://localhost:8080/"
        },
        "id": "fbU9HTb82Qhr",
        "outputId": "f5e650b0-5a8a-4339-ae4a-57fcc4f1435e"
      },
      "outputs": [],
      "source": [
        "!mkdir /content/yolov5/coco/\n",
        "%cd /content/yolov5/coco/"
      ]
    },
    {
      "cell_type": "code",
      "execution_count": null,
      "metadata": {
        "colab": {
          "base_uri": "https://localhost:8080/"
        },
        "id": "q4nl_CHl2ZQY",
        "outputId": "f6a58c69-9fbc-4952-c501-035df302d78a"
      },
      "outputs": [],
      "source": [
        "!wget http://images.cocodataset.org/annotations/annotations_trainval2017.zip\n",
        "!ls"
      ]
    },
    {
      "cell_type": "code",
      "execution_count": null,
      "metadata": {
        "colab": {
          "base_uri": "https://localhost:8080/"
        },
        "id": "MN1F_bYH2rlJ",
        "outputId": "1a3aa2c5-5ca6-422a-9043-921951b38d2f"
      },
      "outputs": [],
      "source": [
        "!unzip -o annotations_trainval2017.zip\n",
        "!ls"
      ]
    },
    {
      "cell_type": "code",
      "execution_count": null,
      "metadata": {
        "colab": {
          "base_uri": "https://localhost:8080/"
        },
        "id": "PkvMZba62vaO",
        "outputId": "ccea7339-dc91-4b73-8924-115f4de3c3cb"
      },
      "outputs": [],
      "source": [
        "%cd /content/yolov5/\n",
        "!ls"
      ]
    },
    {
      "cell_type": "code",
      "execution_count": null,
      "metadata": {
        "colab": {
          "base_uri": "https://localhost:8080/"
        },
        "id": "yFWoBat923l7",
        "outputId": "d39b34a7-93b3-47dd-9a95-9c9dfd5d0959"
      },
      "outputs": [],
      "source": [
        "!sed -i 's#../datasets/coco#/content/coco#g' /content/yolov5/data/coco.yaml\n",
        "!cat /content/yolov5/data/coco.yaml"
      ]
    },
    {
      "cell_type": "code",
      "execution_count": null,
      "metadata": {
        "colab": {
          "base_uri": "https://localhost:8080/"
        },
        "id": "TbBttXtI3KuI",
        "outputId": "76e4ff02-50cd-4332-d107-40373620a5ca"
      },
      "outputs": [],
      "source": [
        "!python val.py --data data/coco.yaml --img 1280 --batch 32 --conf 0.001 --iou 0.65 --device 0 --weights yolov5m6.pt --name yolov5m6_1280_val --half"
      ]
    },
    {
      "cell_type": "code",
      "execution_count": null,
      "metadata": {
        "colab": {
          "base_uri": "https://localhost:8080/"
        },
        "id": "-tMYe8f27US9",
        "outputId": "42efab4b-544d-45bb-8544-4a52b3c3e6c6"
      },
      "outputs": [],
      "source": [
        "!python val.py --data data/coco.yaml --img 1280 --batch 1 --conf 0.001 --iou 0.65 --device 0 --weights yolov5m6.pt --name yolov5m6_1280_val --half"
      ]
    }
  ],
  "metadata": {
    "accelerator": "GPU",
    "colab": {
      "name": "YOLOv7_vs_YOLOv5m6.ipynb",
      "provenance": []
    },
    "gpuClass": "standard",
    "kernelspec": {
      "display_name": "Python 3",
      "name": "python3"
    },
    "language_info": {
      "codemirror_mode": {
        "name": "ipython",
        "version": 3
      },
      "file_extension": ".py",
      "mimetype": "text/x-python",
      "name": "python",
      "nbconvert_exporter": "python",
      "pygments_lexer": "ipython3",
      "version": "3.8.19"
    }
  },
  "nbformat": 4,
  "nbformat_minor": 0
}
