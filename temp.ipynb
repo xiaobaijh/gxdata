{
 "cells": [
  {
   "cell_type": "code",
   "execution_count": 6,
   "metadata": {},
   "outputs": [
    {
     "name": "stdout",
     "output_type": "stream",
     "text": [
      "563 1805\n"
     ]
    }
   ],
   "source": [
    "import os\n",
    "import cv2\n",
    "\n",
    "root = \"/home/wjh/code/yolov7/gxdata_09/images\"\n",
    "night = 0\n",
    "day = 0\n",
    "for img in os.listdir(root):\n",
    "    time = img[8:10]\n",
    "    if time >= \"19\" or time < \"07\":\n",
    "        night += 1\n",
    "    else:\n",
    "        day += 1\n",
    "print(night, day)"
   ]
  }
 ],
 "metadata": {
  "kernelspec": {
   "display_name": "yolov7",
   "language": "python",
   "name": "python3"
  },
  "language_info": {
   "codemirror_mode": {
    "name": "ipython",
    "version": 3
   },
   "file_extension": ".py",
   "mimetype": "text/x-python",
   "name": "python",
   "nbconvert_exporter": "python",
   "pygments_lexer": "ipython3",
   "version": "3.8.19"
  }
 },
 "nbformat": 4,
 "nbformat_minor": 2
}
